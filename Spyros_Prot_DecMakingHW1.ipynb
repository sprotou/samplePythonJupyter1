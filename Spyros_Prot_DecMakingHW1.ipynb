{
  "nbformat": 4,
  "nbformat_minor": 0,
  "metadata": {
    "colab": {
      "name": "Spyros_Prot_DecMakingHW1.ipynb",
      "version": "0.3.2",
      "provenance": [],
      "collapsed_sections": [],
      "toc_visible": true
    },
    "kernelspec": {
      "name": "python3",
      "display_name": "Python 3"
    }
  },
  "cells": [
    {
      "cell_type": "markdown",
      "metadata": {
        "id": "view-in-github",
        "colab_type": "text"
      },
      "source": [
        "[View in Colaboratory](https://colab.research.google.com/github/sprotou/samplePythonJupyter1/blob/master/Spyros_Prot_DecMakingHW1.ipynb)"
      ]
    },
    {
      "metadata": {
        "id": "Ixwfuq5Ep5tc",
        "colab_type": "code",
        "colab": {}
      },
      "cell_type": "code",
      "source": [
        "#@title Exercise1\n"
      ],
      "execution_count": 0,
      "outputs": []
    },
    {
      "metadata": {
        "id": "5oZ8W2JMWWfx",
        "colab_type": "code",
        "colab": {
          "base_uri": "https://localhost:8080/",
          "height": 904
        },
        "outputId": "95da1066-0ad1-42e3-f80c-4cac27c829e7"
      },
      "cell_type": "code",
      "source": [
        "!pip install cvxpy\n",
        "!pip install cvxopt"
      ],
      "execution_count": 5,
      "outputs": [
        {
          "output_type": "stream",
          "text": [
            "Collecting cvxpy\n",
            "\u001b[?25l  Downloading https://files.pythonhosted.org/packages/a7/52/d2928100c93e726acdbb793e4a3662d4c65ace58ca0ddd09463a172f7bed/cvxpy-0.4.11.tar.gz (159kB)\n",
            "\u001b[K    100% |████████████████████████████████| 163kB 7.7MB/s \n",
            "\u001b[?25hCollecting ecos>=2 (from cvxpy)\n",
            "\u001b[?25l  Downloading https://files.pythonhosted.org/packages/b6/b4/988b15513b13e8ea2eac65e97d84221ac515a735a93f046e2a2a3d7863fc/ecos-2.0.5.tar.gz (114kB)\n",
            "\u001b[K    100% |████████████████████████████████| 122kB 7.2MB/s \n",
            "\u001b[?25hCollecting scs>=1.1.3 (from cvxpy)\n",
            "\u001b[?25l  Downloading https://files.pythonhosted.org/packages/b3/fd/6e01c4f4a69fcc6c3db130ba55572089e78e77ea8c0921a679f9da1ec04c/scs-2.0.2.tar.gz (133kB)\n",
            "\u001b[K    100% |████████████████████████████████| 143kB 7.9MB/s \n",
            "\u001b[?25hCollecting multiprocess (from cvxpy)\n",
            "\u001b[?25l  Downloading https://files.pythonhosted.org/packages/65/03/bd8ac79948049b5a0f7ee5f2642f76dbb2d9cb83cc5433dfb2112f89d69a/multiprocess-0.70.5.zip (1.5MB)\n",
            "\u001b[K    100% |████████████████████████████████| 1.5MB 11.4MB/s \n",
            "\u001b[?25hCollecting fastcache (from cvxpy)\n",
            "  Downloading https://files.pythonhosted.org/packages/fb/98/93f2d36738868e8dd5a8dbfc918169b24658f63e5fa041fe000c22ae4f8b/fastcache-1.0.2.tar.gz\n",
            "Requirement already satisfied: six in /usr/local/lib/python3.6/dist-packages (from cvxpy) (1.11.0)\n",
            "Collecting toolz (from cvxpy)\n",
            "\u001b[?25l  Downloading https://files.pythonhosted.org/packages/14/d0/a73c15bbeda3d2e7b381a36afb0d9cd770a9f4adc5d1532691013ba881db/toolz-0.9.0.tar.gz (45kB)\n",
            "\u001b[K    100% |████████████████████████████████| 51kB 17.5MB/s \n",
            "\u001b[?25hRequirement already satisfied: numpy>=1.9 in /usr/local/lib/python3.6/dist-packages (from cvxpy) (1.14.3)\n",
            "Requirement already satisfied: scipy>=0.15 in /usr/local/lib/python3.6/dist-packages (from cvxpy) (0.19.1)\n",
            "Collecting CVXcanon>=0.0.22 (from cvxpy)\n",
            "\u001b[?25l  Downloading https://files.pythonhosted.org/packages/9e/e6/63eb6e7dca5dcb723429e65b456d0e3638976e63f6696b7eb48fee3a491d/CVXcanon-0.1.1.tar.gz (694kB)\n",
            "\u001b[K    100% |████████████████████████████████| 696kB 14.3MB/s \n",
            "\u001b[?25hCollecting dill>=0.2.6 (from multiprocess->cvxpy)\n",
            "\u001b[?25l  Downloading https://files.pythonhosted.org/packages/91/a0/19d4d31dee064fc553ae01263b5c55e7fb93daff03a69debbedee647c5a0/dill-0.2.7.1.tar.gz (64kB)\n",
            "\u001b[K    100% |████████████████████████████████| 71kB 20.4MB/s \n",
            "\u001b[?25hBuilding wheels for collected packages: cvxpy, ecos, scs, multiprocess, fastcache, toolz, CVXcanon, dill\n",
            "  Running setup.py bdist_wheel for cvxpy ... \u001b[?25l-\b \b\\\b \b|\b \b/\b \b-\b \b\\\b \b|\b \bdone\n",
            "\u001b[?25h  Stored in directory: /content/.cache/pip/wheels/2d/26/ba/f0a0388a7ab98124caf88ea8b532b81cf4acb1b6a4a990e3b4\n",
            "  Running setup.py bdist_wheel for ecos ... \u001b[?25l-\b \b\\\b \b|\b \b/\b \b-\b \b\\\b \b|\b \b/\b \b-\b \b\\\b \b|\b \b/\b \b-\b \b\\\b \b|\b \b/\b \b-\b \b\\\b \b|\b \b/"
          ],
          "name": "stdout"
        },
        {
          "output_type": "stream",
          "text": [
            "\b \b-\b \b\\\b \b|\b \b/\b \bdone\n",
            "\u001b[?25h  Stored in directory: /content/.cache/pip/wheels/50/91/1b/568de3c087b3399b03d130e71b1fd048ec072c45f72b6b6e9a\n",
            "  Running setup.py bdist_wheel for scs ... \u001b[?25l-\b \b\\\b \b|\b \b/\b \b-\b \b\\\b \b|\b \b/\b \b-\b \b\\\b \b|\b \b/\b \b-\b \b\\\b \b|\b \b/\b \b-\b \b\\\b \b|\b \b/\b \b-\b \b\\\b \b|\b \b/\b \b-\b \b\\\b \b|\b \b/\b \b-\b \b\\\b \b|\b \b/\b \b-\b \b\\\b \b|\b \b/\b \b-\b \b\\\b \bdone\n",
            "\u001b[?25h  Stored in directory: /content/.cache/pip/wheels/ff/f0/aa/530ccd478d7d9900b4e9ef5bc5a39e895ce110bed3d3ac653e\n",
            "  Running setup.py bdist_wheel for multiprocess ... \u001b[?25l-\b \b\\\b \b|\b \b/\b \bdone\n",
            "\u001b[?25h  Stored in directory: /content/.cache/pip/wheels/85/44/92/7635fa709a1e88a4dca84eba3d1566fc0e2b001d4d84f40d35\n",
            "  Running setup.py bdist_wheel for fastcache ... \u001b[?25l-\b \b\\\b \bdone\n",
            "\u001b[?25h  Stored in directory: /content/.cache/pip/wheels/b7/90/c0/da92ac52d188d9ebca577044e89a14d0e6ff333c1bcd1ebc14\n",
            "  Running setup.py bdist_wheel for toolz ... \u001b[?25l-\b \b\\\b \bdone\n",
            "\u001b[?25h  Stored in directory: /content/.cache/pip/wheels/f4/0c/f6/ce6b2d1aa459ee97cc3c0f82236302bd62d89c86c700219463\n",
            "  Running setup.py bdist_wheel for CVXcanon ... \u001b[?25l-\b \b\\\b \b|\b \b/\b \b-\b \b\\\b \b|\b \b/\b \b-\b \b\\\b \b|\b \b/\b \b-\b \b\\\b \b|\b \b/\b \b-\b \b\\\b \b|\b \b/\b \b-\b \b\\\b \b|\b \b/\b \b-\b \b\\\b \b|\b \bdone\n",
            "\u001b[?25h  Stored in directory: /content/.cache/pip/wheels/46/a7/aa/2116e25ce5ef04deae6a3c4d01908449e572393351edf65b14\n",
            "  Running setup.py bdist_wheel for dill ... \u001b[?25l-\b \b\\\b \bdone\n",
            "\u001b[?25h  Stored in directory: /content/.cache/pip/wheels/99/c4/ed/1b64d2d5809e60d5a3685530432f6159d6a9959739facb61f2\n",
            "Successfully built cvxpy ecos scs multiprocess fastcache toolz CVXcanon dill\n",
            "Installing collected packages: ecos, scs, dill, multiprocess, fastcache, toolz, CVXcanon, cvxpy\n",
            "Successfully installed CVXcanon-0.1.1 cvxpy-0.4.11 dill-0.2.7.1 ecos-2.0.5 fastcache-1.0.2 multiprocess-0.70.5 scs-2.0.2 toolz-0.9.0\n",
            "Collecting cvxopt\n",
            "\u001b[?25l  Downloading https://files.pythonhosted.org/packages/50/5e/569e0012c23200dd4fb6ba03892a75458603050ed765d51aac4b95e27c78/cvxopt-1.2.0-cp36-cp36m-manylinux1_x86_64.whl (11.5MB)\n",
            "\u001b[K    100% |████████████████████████████████| 11.5MB 3.0MB/s \n",
            "\u001b[?25hInstalling collected packages: cvxopt\n",
            "Successfully installed cvxopt-1.2.0\n"
          ],
          "name": "stdout"
        }
      ]
    },
    {
      "metadata": {
        "id": "FKVdvPATW7Yd",
        "colab_type": "code",
        "colab": {}
      },
      "cell_type": "code",
      "source": [
        "import os\n",
        "import numpy as np\n",
        "import seaborn as sb\n",
        "import pandas as pd\n",
        "import matplotlib as mpl\n",
        "import cvxpy\n",
        "import cvxopt\n",
        "import math\n",
        "from cvxopt.modeling import variable\n",
        "from numpy import float64, uint64\n",
        "from cvxopt.modeling import op\n",
        "from google.colab import files\n",
        "import operator\n",
        "import functools"
      ],
      "execution_count": 0,
      "outputs": []
    },
    {
      "metadata": {
        "id": "ARu2rCM9W7jU",
        "colab_type": "code",
        "colab": {
          "base_uri": "https://localhost:8080/",
          "height": 139
        },
        "outputId": "ca63fafe-80b1-4733-b4fb-01535c74e627"
      },
      "cell_type": "code",
      "source": [
        "ex1RawData = {'sportsMin': [2*10**6, 0, 1*10**6, 0], 'natMin': [1*10**6, 1*10**6, 1*10**6, 0], 'totMin' : [0*10**6, 2*10**6, 3*10**6, 2*10**6], 'sportsCThru' :[2.5*10**-2, 2*10**-2, 1*10**-2, 1.5*10**-2],\n",
        "             'natCThru': [0.8*10**-2, 1*10**-2, 3*10**-2, 2*10**-2]}\n",
        "print(ex1RawData)\n",
        "ex1DF = pd.DataFrame(data=ex1RawData)\n",
        "\n",
        "print(ex1DF)"
      ],
      "execution_count": 11,
      "outputs": [
        {
          "output_type": "stream",
          "text": [
            "{'sportsMin': [2000000, 0, 1000000, 0], 'natMin': [1000000, 1000000, 1000000, 0], 'totMin': [0, 2000000, 3000000, 2000000], 'sportsCThru': [0.025, 0.02, 0.01, 0.015], 'natCThru': [0.008, 0.01, 0.03, 0.02]}\n",
            "   natCThru   natMin  sportsCThru  sportsMin   totMin\n",
            "0     0.008  1000000        0.025    2000000        0\n",
            "1     0.010  1000000        0.020          0  2000000\n",
            "2     0.030  1000000        0.010    1000000  3000000\n",
            "3     0.020        0        0.015          0  2000000\n"
          ],
          "name": "stdout"
        }
      ]
    },
    {
      "metadata": {
        "id": "lP9GwH6n3wp4",
        "colab_type": "text"
      },
      "cell_type": "markdown",
      "source": [
        "#question1"
      ]
    },
    {
      "metadata": {
        "id": "vbInxY6dW7sN",
        "colab_type": "code",
        "colab": {}
      },
      "cell_type": "code",
      "source": [
        "\n",
        "# Our objective: maximize profit\n",
        "# Profit comes from clicks: Pr = 2.4*clicks\n",
        "\n",
        "# Decision variables: how many displays we will give for each company in each of the two sections (Sports & National)\n",
        "#   let n_ij be the number of displays for company i on section j. The i index is the order the companies are seen on the dataframe\n",
        "#   the j is 0 for sports section, 1 for national section\n",
        "#   so, n_00 is the displays for geico in the sports section (indeces start at 0).\n",
        "\n",
        "# n_00 = ex1DF.at[0,'sportsMin']\n",
        "# n_01 = ex1DF.at[0,'natMin']\n",
        "# n_10 = ex1DF.at[1,'sportsMin']\n",
        "# n_11 = ex1DF.at[1,'natMin']\n",
        "# n_20 = ex1DF.at[2,'sportsMin']\n",
        "# n_21 = ex1DF.at[2,'natMin']\n",
        "# n_30 = ex1DF.at[3,'sportsMin']\n",
        "# n_31 = ex1DF.at[3,'natMin']\n",
        "\n",
        "n_00 = variable(1,'geicoS')\n",
        "n_01 = variable(1,'geicoN')\n",
        "n_10 = variable(1,'deltaS')\n",
        "n_11 = variable(1,'deltaN')\n",
        "n_20 = variable(1,'tMobS')\n",
        "n_21 = variable(1,'tMobN')\n",
        "n_30 = variable(1,'cOneS')\n",
        "n_31 = variable(1,'cOneN')\n",
        "\n",
        "  \n",
        "#   The objective function now can be written as: Pr = 2.4*sum(n_ij*clickThru_ij) (summing for all i, j values)\n",
        "  \n",
        "#  Constraints: The minimum displays promised to each company (either by section or total) as seen on the Min sections of the dataframe\n",
        "#   so:\n",
        "c1 = n_00 >= 2*10**6 #sportsMin\n",
        "c2 =  n_01 >= 1*10**6 #natMin\n",
        "\n",
        "\n",
        "c3 = n_11 >= 1*10**6\n",
        "c4 = n_10 + n_11 >= 2*10**6 #totMin\n",
        "\n",
        "c5 = n_20 >= 1*10**6\n",
        "c6 = n_21 >= 1*10**6\n",
        "c7 = n_20 + n_21  >= 3*10**6\n",
        "\n",
        "\n",
        "c8 = n_30 + n_31 >= 2*10**6\n",
        "    \n",
        "#   Also, our space for displays is finite, so that is another constraint.\n",
        "#   Let's assume we run the problem for a maximum of 6 million displays on sports and another 8 on national news\n",
        "#   This constraint can be written as:\n",
        "#     sum(n_i0) <= 6*10**6 #summing for all values of i (company)\n",
        "#     sum(n_i1) <= 8*10**6 #summing for all values of i (company)\n",
        "\n",
        "c9 = n_00 + n_10 + n_20 + n_30 <= 6*10**6\n",
        "c10 = n_01 + n_11 + n_21 + n_31 <= 8*10**6\n",
        "\n",
        "#we cannot have negative impressions, so that's an addittional constraint\n",
        "#I don't need to add that for all, since some already have a requirement of minimum that is > 0 \n",
        "c11 = n_10 >= 0\n",
        "c12 = n_30 >= 0\n",
        "c13 = n_31 >= 0"
      ],
      "execution_count": 0,
      "outputs": []
    },
    {
      "metadata": {
        "id": "71jJ46QTW70N",
        "colab_type": "code",
        "colab": {
          "base_uri": "https://localhost:8080/",
          "height": 34
        },
        "outputId": "2b8d44a4-0363-4154-8fcb-2449493f3f7a"
      },
      "cell_type": "code",
      "source": [
        "#objective function, as described on cell above:\n",
        "\n",
        "\n",
        "print(type(ex1DF.at[0,'sportsCThru'].item())) #need to convert to generic float, otherwise it doesn't work. That's what .item() does\n",
        "\n",
        "ourProfitFormula =  2.4*(n_00*ex1DF.at[0,'sportsCThru'].item() + n_01*ex1DF.at[0,'natCThru'].item() + \n",
        "                         n_10*ex1DF.at[1,'sportsCThru'].item() + n_11*ex1DF.at[1,'natCThru'].item() +\n",
        "                         n_20*ex1DF.at[2,'sportsCThru'].item() + n_21*ex1DF.at[2,'natCThru'].item() +\n",
        "                         n_30*ex1DF.at[3,'sportsCThru'].item() + n_31*ex1DF.at[3,'natCThru'].item())\n"
      ],
      "execution_count": 13,
      "outputs": [
        {
          "output_type": "stream",
          "text": [
            "<class 'float'>\n"
          ],
          "name": "stdout"
        }
      ]
    },
    {
      "metadata": {
        "id": "M5nIUETH33NO",
        "colab_type": "text"
      },
      "cell_type": "markdown",
      "source": [
        "#question2"
      ]
    },
    {
      "metadata": {
        "id": "hqxruqAyfVwR",
        "colab_type": "code",
        "colab": {
          "base_uri": "https://localhost:8080/",
          "height": 204
        },
        "outputId": "c981d340-cf94-4496-9974-f4240f3daccf"
      },
      "cell_type": "code",
      "source": [
        "# >>> from cvxopt.modeling import op\n",
        "# >>> x = variable()\n",
        "# >>> y = variable()\n",
        "# >>> c1 = ( 2*x+y <= 3 )\n",
        "# >>> c2 = ( x+2*y <= 3 )\n",
        "# >>> c3 = ( x >= 0 )\n",
        "# >>> c4 = ( y >= 0 )\n",
        "# >>> lp1 = op(-4*x-5*y, [c1,c2,c3,c4])\n",
        "# >>> lp1.solve()\n",
        "# >>> lp1.status\n",
        "\n",
        "\n",
        "\n",
        "with open('output.txt','a+') as ourFile:\n",
        "        ourFile.write('test')\n",
        "        profitObject = op(-ourProfitFormula, [c1,c2,c3,c4,c5,c6,c7,c8,c9,c10,c11,c12,c13])\n",
        "        profitObject.solve()\n",
        "        profitObject.status\n",
        "        print(-profitObject.objective.value())\n",
        "        ourFile.write(str((-profitObject.objective.value())) + '\\n')\n"
      ],
      "execution_count": 14,
      "outputs": [
        {
          "output_type": "stream",
          "text": [
            "     pcost       dcost       gap    pres   dres   k/t\n",
            " 0: -5.1531e+05 -1.5476e+06  1e+07  2e-02  3e+00  1e+00\n",
            " 1: -5.2476e+05 -5.6887e+05  4e+05  1e-03  1e-01  4e+02\n",
            " 2: -6.8706e+05 -6.9404e+05  1e+05  3e-04  3e-02  5e+03\n",
            " 3: -7.2832e+05 -7.3031e+05  4e+04  9e-05  9e-03  2e+03\n",
            " 4: -7.3840e+05 -7.3848e+05  2e+03  4e-06  4e-04  7e+01\n",
            " 5: -7.3919e+05 -7.3919e+05  2e+01  4e-08  4e-06  8e-01\n",
            " 6: -7.3920e+05 -7.3920e+05  2e-01  4e-10  4e-08  8e-03\n",
            "Optimal solution found.\n",
            "[ 7.39e+05]\n",
            "\n"
          ],
          "name": "stdout"
        }
      ]
    },
    {
      "metadata": {
        "id": "eMhgAYBp3zWg",
        "colab_type": "code",
        "colab": {}
      },
      "cell_type": "code",
      "source": [
        "#@title question3 ,To be revisited\n",
        "\n",
        "#For sensitivity analysis, ideally we would need a for loop that runs through all the desired combinations.\n",
        "#Is there any built in cvx package method for sensitivity analysis?\n",
        "#On a notebook, that is not very comfortable, so I manually changed the scenarios on the existing code and wrote the resuluts in attached files \n",
        "\n"
      ],
      "execution_count": 0,
      "outputs": []
    },
    {
      "metadata": {
        "id": "44d5rqhU32zF",
        "colab_type": "code",
        "colab": {
          "base_uri": "https://localhost:8080/",
          "height": 289
        },
        "outputId": "cfbb36af-8ee5-43c1-fe05-e826f0bdf0aa"
      },
      "cell_type": "code",
      "source": [
        "with open('output.txt','a+') as ourFile:\n",
        "    nList = [n_00, n_01, n_10, n_11, n_20, n_21, n_30, n_31]\n",
        "\n",
        "    for n in nList:\n",
        "      print(n.name, n.value)\n",
        "      ourFile.write(str(n.name) +  os.linesep) #neither \\n or linesep seem to work. Is it something with collab?\n",
        "      ourFile.write(str(n.value)+  os.linesep)"
      ],
      "execution_count": 15,
      "outputs": [
        {
          "output_type": "stream",
          "text": [
            "geicoS [ 3.58e+06]\n",
            "\n",
            "geicoN [ 1.00e+06]\n",
            "\n",
            "deltaS [ 1.00e+06]\n",
            "\n",
            "deltaN [ 1.00e+06]\n",
            "\n",
            "tMobS [ 1.00e+06]\n",
            "\n",
            "tMobN [ 4.42e+06]\n",
            "\n",
            "cOneS [ 4.22e+05]\n",
            "\n",
            "cOneN [ 1.58e+06]\n",
            "\n"
          ],
          "name": "stdout"
        }
      ]
    },
    {
      "metadata": {
        "id": "HTK80F8M325F",
        "colab_type": "code",
        "colab": {}
      },
      "cell_type": "code",
      "source": [
        "\n",
        "\n",
        "\n",
        "files.download('output.txt') #doesn't work, need to revisit"
      ],
      "execution_count": 0,
      "outputs": []
    },
    {
      "metadata": {
        "id": "js_j9jGz4BiH",
        "colab_type": "text"
      },
      "cell_type": "markdown",
      "source": [
        "#question4\n",
        "\n",
        "The results correlate heavily with the click through rates, as expected, as clicks are directly proportional to revenue.\n",
        "\n",
        "Specifically:\n",
        "\n",
        "delta Sports is maxed out (based on constrains for max 2mill total)\n",
        "T-mobile national, Geico Sports and Captical One National are our top assignments, as well as the top click through.\n",
        "\n",
        "Some of the values are related to the caps I set by myself for total sports and national displays."
      ]
    },
    {
      "metadata": {
        "id": "WltPppUK32-l",
        "colab_type": "code",
        "colab": {}
      },
      "cell_type": "code",
      "source": [
        "#@title Exercise2\n",
        "\n"
      ],
      "execution_count": 0,
      "outputs": []
    },
    {
      "metadata": {
        "id": "OJr3TKwVotih",
        "colab_type": "code",
        "colab": {}
      },
      "cell_type": "code",
      "source": [
        "g_SA = 4 #required hours for a Standard (S) product to be Grinded (g) at plant A\n",
        "p_SA = 2 #p for polished\n",
        "g_DA = 2\n",
        "p_DA = 5\n",
        "g_SB = 5\n",
        "p_SB = 5\n",
        "g_DB = 3\n",
        "p_DB = 6"
      ],
      "execution_count": 0,
      "outputs": []
    },
    {
      "metadata": {
        "id": "LqP68hMbozYc",
        "colab_type": "text"
      },
      "cell_type": "markdown",
      "source": [
        "#question1\n",
        "\n",
        "Objective 1: maximize profit for each unit separately, given the raw material assignments\n",
        "\n",
        "Profit = 10*(StandardSalesA + StandardsSalesB) + 15*(DeluxeSalesA + DeluxeSalesB)\n",
        "\n",
        "Constraints: Capacities, Raw material requirements, number of products produced must be an integer >=0\n",
        "\n",
        "Decision variables: how many of each product will each plant produce\n"
      ]
    },
    {
      "metadata": {
        "id": "mfh75N-MpWR4",
        "colab_type": "code",
        "colab": {}
      },
      "cell_type": "code",
      "source": [
        "n_SA = cvxpy.Int() #how many standards products will A produce\n",
        "n_DA = cvxpy.Int() \n",
        "n_SB = cvxpy.Int() \n",
        "n_DB = cvxpy.Int() \n",
        "\n",
        "c1 = n_SA*g_SA + n_DA*g_DA <= 80 #grinding hours constraint for plant A\n",
        "c2 = n_SA*p_SA + n_DA*p_DA <= 60#polishing hours constraint for plant A\n",
        "c3 = n_SB*g_SB + n_DB*g_DB <= 60 #grinding hours constraint for plant B \n",
        "c4 = n_SB*p_SB + n_DB*p_DB <= 75#polishing hours constraint for plant B\n",
        "\n",
        "c5 = 4*(n_SA + n_DA) <= 75 #raw mat const. for A\n",
        "c6 = 4*(n_SB + n_DB) <= 45 #raw mat const. for B\n",
        "\n",
        "c7 = n_SA >=0 \n",
        "c8 = n_DA >=0\n",
        "\n",
        "c9 = n_SB >=0 \n",
        "c10 = n_DB >=0 \n",
        "\n",
        "ourObjectiveA = cvxpy.Maximize(10*n_SA + 15*n_DA )\n",
        "ourObjectiveB = cvxpy.Maximize(10*n_SB + 15*n_DB )\n",
        "\n",
        "consA = [c1,c2,c5,c7,c8]\n",
        "consB = [c3,c4,c6,c9,c10]"
      ],
      "execution_count": 0,
      "outputs": []
    },
    {
      "metadata": {
        "id": "7v0jdE8S3YeE",
        "colab_type": "text"
      },
      "cell_type": "markdown",
      "source": [
        "#question2"
      ]
    },
    {
      "metadata": {
        "id": "h_oFnwMCvKjV",
        "colab_type": "code",
        "colab": {
          "base_uri": "https://localhost:8080/",
          "height": 51
        },
        "outputId": "f54c097a-ad8f-48bb-82b1-0c141130be5d"
      },
      "cell_type": "code",
      "source": [
        "#solving for each plant separately\n",
        "ourProbA = cvxpy.Problem(ourObjectiveA, consA)\n",
        "resultA = ourProbA.solve()\n",
        "print(n_SA.value,'Std at A and', n_DA.value, 'Deluxe at A, with a profit of', ourObjectiveA.value) \n",
        "\n",
        "ourProbB = cvxpy.Problem(ourObjectiveB, consB)\n",
        "resultB = ourProbB.solve()\n",
        "print(n_SB.value,'Std at B and', n_DB.value, 'Deluxe at B with a profit of', ourObjectiveB.value) "
      ],
      "execution_count": 18,
      "outputs": [
        {
          "output_type": "stream",
          "text": [
            "10.000000000492811 Std at A and 8.000000003148305 Deluxe at A, with a profit of 220.0000000521527\n",
            "2.912859137415921e-09 Std at B and 11.000000002512746 Deluxe at B with a profit of 165.00000006681978\n"
          ],
          "name": "stdout"
        }
      ]
    },
    {
      "metadata": {
        "id": "b51Orbww3dy2",
        "colab_type": "text"
      },
      "cell_type": "markdown",
      "source": [
        "#question3"
      ]
    },
    {
      "metadata": {
        "id": "quOl9BPXy_kv",
        "colab_type": "code",
        "colab": {
          "base_uri": "https://localhost:8080/",
          "height": 68
        },
        "outputId": "00f386e8-60de-475d-d261-3492a0a9342e"
      },
      "cell_type": "code",
      "source": [
        "#Now, we want to solve globally. The difference is that we basically have control over the raw material assignment, so that is 2 additional decision variables\n",
        "c11 = 4*(n_SA + n_DA) + 4*(n_SB + n_DB) <= 120\n",
        "# rawA = variable(1) #not needed\n",
        "# rawB = variable(1)\n",
        "ourObjectiveGlobal = cvxpy.Maximize(10*(n_SA + n_SB) + 15*(n_DA + n_DB))\n",
        "consGlobal = [c1,c2,c3,c4,c7,c8,c9,c10,c11]\n",
        "ourProbGlobal = cvxpy.Problem(ourObjectiveGlobal,consGlobal)\n",
        "resultGlobal = ourProbGlobal.solve()\n",
        "print(n_SA.value,'std at A,', n_DA.value,'del at A,', n_SB.value,'std at B,', n_DB.value,'del at B,', ourObjectiveGlobal.value)\n",
        "#from the result, we can also find the raw material disrtibution:\n",
        "print( (10+8)*4, 'raw at A' )\n",
        "print( 12*4, 'raw at B' )"
      ],
      "execution_count": 19,
      "outputs": [
        {
          "output_type": "stream",
          "text": [
            "9.999999999202235 std at A, 7.999999996534886 del at A, -1.4098916005133095e-09 std at B, 11.999999999969063 del at B, 399.99999992548265\n",
            "72 raw at A\n",
            "48 raw at B\n"
          ],
          "name": "stdout"
        }
      ]
    },
    {
      "metadata": {
        "id": "jCqQbFew3rW7",
        "colab_type": "text"
      },
      "cell_type": "markdown",
      "source": [
        "#questions 4 and 5\n",
        "\n",
        "As expected, the joint optimization provides more profits (400 vs 220+165 = 385). Obviously, joint optimization result is always >= individual, as long as we can reassign raw material at will.\n",
        "It seems a small tweak of raw material assignments is needed.\n",
        "\n",
        "Another thing to recommend to the CEO is doing something else with the space and resources used for producing standard products in Plant B, as based on the optimization, it is completely useless (0 units produced in the optimal solution)\n",
        "Maybe convert it to produce Deluxe somehow, or sell the machines and free up space.\n",
        "\n",
        "In case there is budget for addittional capacity to be created, we should check the market for elasticity of demand and start a new analysis to find by how much we should be increasing capacity."
      ]
    },
    {
      "metadata": {
        "id": "c8EnEyxH6YQt",
        "colab_type": "code",
        "colab": {}
      },
      "cell_type": "code",
      "source": [
        "#@title Exercise3\n"
      ],
      "execution_count": 0,
      "outputs": []
    },
    {
      "metadata": {
        "id": "FGM-ROQk8A-T",
        "colab_type": "text"
      },
      "cell_type": "markdown",
      "source": [
        "Profitability = earnings before interest and taxes divided by total revenue. Note that the profitability is %(max100), not a ratio(max1).\n",
        "\n",
        "So this is a % of the revenue of the hotel, not absolute $\n",
        "\n",
        "#**question 1**\n",
        "\n",
        "**Variables that positively affect profitability: **\n",
        "\n",
        "Price to buy the inn: Somewhat expected, but not totally. If profitability was $amount, that would be very expected, but for the ratio not so much, especially given how strong the correlation is.\n",
        "It seems expensive inns outperform the smaller ones for the most part. I guess nicer hotels can operate on a higher profit margin.\n",
        "\n",
        "College students in the area: This makes sense, because college students may have parents visiting, or universities may hold various scientific, cultural, sports and other events, for which people visit and spend the night at hotels.\n",
        "\n",
        "**Variables that negatively affect profitability: **\n",
        "\n",
        "Square root of the median income in the area: Makes sense, because people in such areas often are more price sensitive so the profit margins are thinner.\n",
        "\n",
        "State population per inn: Somewhat makes sense. Larger state ---> More competition ---> Thinner profit margins"
      ]
    },
    {
      "metadata": {
        "id": "3QL_YrAoBr8R",
        "colab_type": "text"
      },
      "cell_type": "markdown",
      "source": [
        "#**question 2**\n",
        "\n",
        "Hotel\tLocation\tPrice\tPrice (normalized)\tSquare Root of Median Income (normalized)\tCollege Students in Area (normalized)\tState Population Per Inn (normalized)\t**profitability**\n",
        "\n",
        "1\tEureka, California\t$2,925,000.00 \t-0.30\t-0.81\t-0.54\t-1.00\t44.24236879\n",
        "\n",
        "**2\tFresno, California\t$10,000,000.00 \t1.70\t-0.41\t0.31\t-0.47\t53.37919231 HIGHEST PROFITABILITY**\n",
        "\n",
        "3\tFresno, California\t$3,750,000.00 \t-0.07\t-0.41\t0.31\t-0.47\t43.02117894\n",
        "\n",
        "4\tFresno, California\t$3,500,000.00 \t-0.14\t-0.41\t0.31\t-0.47\t42.6068584\n",
        "\n",
        "5\tFresno, California\t$325,000.00 \t-1.04\t-0.41\t0.31\t-0.47\t37.34498761\n",
        "\n",
        "6\tLong Beach, California\t$8,950,000.00 \t1.40\t0.66\t0.48\t-0.56\t49.09506947\n",
        "\n",
        "7\tLos Angeles, California\t$1,950,000.00 \t-0.58\t0.17\t3.11\t3.11\t23.77686566\n",
        "\n",
        "**8\tLos Angeles, California\t$1,750,000.00 \t-0.63\t0.17\t3.11\t3.11\t23.44540924 LOWEST PROFITABILITY**\n",
        "\n",
        "9\tLos Angeles, California\t$4,900,000.00 \t0.26\t0.17\t3.11\t3.11\t28.66584798\n",
        "\n",
        "10\tSouth Lake Tahoe, California\t$1,650,000.00 \t-0.66\t-0.79\t-0.59\t-0.43\t38.88067311\n",
        "\n",
        "11\tSouth Lake Tahoe, California\t$1,125,000.00 \t-0.81\t-0.79\t-0.59\t-0.43\t38.01059999\n",
        "\n",
        "12\tSouth Lake Tahoe, California\t$2,500,000.00 \t-0.42\t-0.79\t-0.59\t-0.43\t40.28936293\n",
        "\n",
        "13\tSouth Lake Tahoe, California\t$1,975,000.00 \t-0.57\t-0.79\t-0.59\t-0.43\t39.41928981\n",
        "\n",
        "14\tSouth Lake Tahoe, California\t$3,750,000.00 \t-0.07\t-0.79\t-0.59\t-0.43\t42.36096561\n",
        "\n",
        "15\tSouth Lake Tahoe, California\t$1,475,000.00 \t-0.71\t-0.79\t-0.59\t-0.43\t38.59064874\n",
        "\n",
        "16\tSouth Lake Tahoe, California\t$750,000.00 \t-0.92\t-0.79\t-0.59\t-0.43\t37.38911919\n",
        "\n",
        "\n"
      ]
    },
    {
      "metadata": {
        "id": "_JynukHvCT9t",
        "colab_type": "text"
      },
      "cell_type": "markdown",
      "source": [
        "#**question3**\n",
        "\n",
        "a. With USD10M budget, following the strategy described, we would buy the large hotel (2) that costs exactly 10M and nothing else.\n",
        "\n",
        "Total profitability 53.8% of revenue\n",
        "\n",
        "b. A bit confused how total profitability is defined as a sum here. Based on the definition of profitability as a ratio (% - quoting: *“Profitability”, computed at the operating\n",
        "margin, or earnings before interest and taxes **divided** by total revenue.), the total profitability should be the weighted (on revenue) average of profitability of different hotels.*\n",
        "\n",
        "c. If the profitability is indeed the ratio (%) I assumed, and we are confident about the model, and we don't care about diversification in locations, then this is a good approach. If we had 20M instead of 10M, we would just continue buying based on the highest profitability %\n",
        "\n",
        "If we were to sum the profitabilites, then it seems like a bad approach, as there are multiple combinations that would provide a higher sum."
      ]
    },
    {
      "metadata": {
        "id": "L0LWaxhzE4MJ",
        "colab_type": "text"
      },
      "cell_type": "markdown",
      "source": [
        "#**question4**\n",
        "\n",
        "Based on the description, we want to optimize the **sum** of profitabilities. One way to do that is to find the following ratio:\n",
        "\n",
        "(profitability/price)*10^6   Then we can brute force from the highest to the lowest and start buying. Only for the last purchase, we need to make sure it doesn't leave us with leftover cash (if we do not want that). So only for the last choice, we may choose a hotel with a ratio that is not the highest. However, that is an analytical solution that does not require linear programming.\n",
        "\n",
        "15.12559617\n",
        "\n",
        "5.337919231\n",
        "\n",
        "11.47231438\n",
        "\n",
        "12.17338811\n",
        "\n",
        "114.9076542\n",
        "\n",
        "5.485482622\n",
        "\n",
        "12.19326444\n",
        "\n",
        "13.39737671\n",
        "\n",
        "5.850173056\n",
        "\n",
        "23.56404431\n",
        "\n",
        "33.78719999\n",
        "\n",
        "16.11574517\n",
        "\n",
        "19.95913408\n",
        "\n",
        "11.29625749\n",
        "\n",
        "26.16315169\n",
        "\n",
        "49.85215892\n",
        "\n",
        "For the linear programming way:\n",
        "\n",
        "The **objective function** (to be maximized) will be:\n",
        "\n",
        "Total Profitability = Sum(Profitability_j) where j the index of selected hotels.\n",
        "\n",
        "\n",
        "**Decision Variables:**\n",
        "\n",
        "b_i = 1 if you buy hotel i, or = 0 if you don't buy it.\n",
        "\n",
        "So the objective function becomes: Total Profitability =  sum(b_i*Profitability_i) , with i any hotel index (as the ones we do not buy have b_i=0 anyway)\n",
        "\n",
        "**Constraints:**\n",
        "\n",
        "sum(Price_j) <= 10*10^6\n",
        "\n",
        "b_i = 0 or 1 (binary variable)"
      ]
    },
    {
      "metadata": {
        "id": "DD2FclbEeXiR",
        "colab_type": "code",
        "colab": {
          "base_uri": "https://localhost:8080/",
          "height": 54
        },
        "outputId": "2569a807-a6a8-488c-8851-b80870a67775"
      },
      "cell_type": "code",
      "source": [
        "iHotRange = range(1,17) #range 1,17 gives us 1 to 16 in Python\n",
        "list_b = list()\n",
        "\n",
        "for iHotel in iHotRange:\n",
        "  b_i = cvxpy.Bool()\n",
        "  list_b.append(b_i)\n",
        "  #b_i = 1 #test to see how Bool behaves when assigned 1 or 0. No error\n",
        "  \n",
        "print(list_b)\n",
        "\n"
      ],
      "execution_count": 29,
      "outputs": [
        {
          "output_type": "stream",
          "text": [
            "[Bool(1, 1), Bool(1, 1), Bool(1, 1), Bool(1, 1), Bool(1, 1), Bool(1, 1), Bool(1, 1), Bool(1, 1), Bool(1, 1), Bool(1, 1), Bool(1, 1), Bool(1, 1), Bool(1, 1), Bool(1, 1), Bool(1, 1), Bool(1, 1)]\n"
          ],
          "name": "stdout"
        }
      ]
    },
    {
      "metadata": {
        "id": "_cZxh1xLjI16",
        "colab_type": "code",
        "colab": {
          "base_uri": "https://localhost:8080/",
          "height": 54
        },
        "outputId": "9ef9d7e9-b99b-45f1-a380-c6cc714e8b5c"
      },
      "cell_type": "code",
      "source": [
        "pr1 = 44.24236879 #values from LMQ.xlsx (calculated by me based on the definition)\n",
        "pr2 = 53.37919231\n",
        "pr3 = 43.02117894\n",
        "pr4 = 42.6068584\n",
        "pr5 = 37.34498761\n",
        "pr6 = 49.09506947\n",
        "pr7 = 23.77686566\n",
        "pr8 = 23.44540924\n",
        "pr9 = 28.66584798\n",
        "pr10 = 38.88067311\n",
        "pr11 = 38.01059999\n",
        "pr12 = 40.28936293\n",
        "pr13 = 39.41928981\n",
        "pr14 = 42.36096561\n",
        "pr15 = 38.59064874\n",
        "pr16 = 37.38911919\n",
        "\n",
        "list_prof = [pr1, pr2, pr3, pr4, pr5, pr6, pr7, pr8, pr9, pr10, pr11, pr12, pr13, pr14, pr15, pr16]\n",
        "print(list_prof)\n",
        "\n",
        "\n",
        "import operator\n",
        "import functools\n",
        "\n"
      ],
      "execution_count": 23,
      "outputs": [
        {
          "output_type": "stream",
          "text": [
            "[44.24236879, 53.37919231, 43.02117894, 42.6068584, 37.34498761, 49.09506947, 23.77686566, 23.44540924, 28.66584798, 38.88067311, 38.01059999, 40.28936293, 39.41928981, 42.36096561, 38.59064874, 37.38911919]\n"
          ],
          "name": "stdout"
        }
      ]
    },
    {
      "metadata": {
        "id": "EgY7GiiXlFA5",
        "colab_type": "code",
        "colab": {}
      },
      "cell_type": "code",
      "source": [
        "def sumproduct(*lists): #generalized way to do sumproduct of lists without manually writing down each element\n",
        "    return sum(functools.reduce(operator.mul, data) for data in zip(*lists))\n",
        "  \n",
        "ourProfitSum = sumproduct(list_b, list_prof)\n",
        "ourObjectiveHotels = cvxpy.Maximize(ourProfitSum)\n",
        "\n",
        "list_prices = [2925000.00,\n",
        "10000000.00,\n",
        "3750000.00,\n",
        "3500000.00,\n",
        "325000.00,\n",
        "8950000.00,\n",
        "1950000.00,\n",
        "1750000.00,\n",
        "4900000.00,\n",
        "1650000.00,\n",
        "1125000.00,\n",
        "2500000.00,\n",
        "1975000.00,\n",
        "3750000.00,\n",
        "1475000.00,\n",
        "750000.00]\n",
        "\n",
        "cH1 = sumproduct(list_b, list_prices) <= 10*10**6\n",
        "consHotels = list()\n",
        "consHotels.append(cH1)\n",
        "\n",
        "# ourObjectiveGlobal = cvxpy.Maximize(10*(n_SA + n_SB) + 15*(n_DA + n_DB)) #for reference, ignore\n",
        "# consGlobal = [c1,c2,c3,c4,c7,c8,c9,c10,c11]\n",
        "# ourProbGlobal = cvxpy.Problem(ourObjectiveGlobal,consGlobal)\n",
        "# resultGlobal = ourProbGlobal.solve()"
      ],
      "execution_count": 0,
      "outputs": []
    },
    {
      "metadata": {
        "id": "XmcHVhi1oUIB",
        "colab_type": "code",
        "colab": {
          "base_uri": "https://localhost:8080/",
          "height": 306
        },
        "outputId": "5ac6628e-80b6-4784-aa15-ae96fa604ab1"
      },
      "cell_type": "code",
      "source": [
        "ourProbHotels = cvxpy.Problem(ourObjectiveHotels, consHotels)\n",
        "resultHotels =  ourProbHotels.solve()\n",
        "\n",
        "# print(n_SA.value,'std at A,', n_DA.value,'del at A,', n_SB.value,'std at B,', n_DB.value,'del at B,', ourObjectiveGlobal.value) #ignore\n",
        "# #from the result, we can also find the raw material disrtibution:\n",
        "# print( (10+8)*4, 'raw at A' )\n",
        "# print( 12*4, 'raw at B' )\n",
        "list_b_converted = list()\n",
        "for i1 in range(0,16):\n",
        "  print(i1, list_b[i1].value) #remember, 0 (or close to it), we don't buy it. 1 (or close to it) we buy it.\n",
        "  list_b_converted.append(list_b[i1].value) #taking the value from vars, need this for the next calculation\n",
        "  \n",
        "ourResultProfitabilitySum1 = sumproduct(list_b_converted, list_prof)\n",
        "print('the sum of profitability of selected hotels is', ourResultProfitabilitySum1)"
      ],
      "execution_count": 60,
      "outputs": [
        {
          "output_type": "stream",
          "text": [
            "0 1.0931077598554305e-13\n",
            "1 -8.041165148868167e-14\n",
            "2 2.2123295858170557e-13\n",
            "3 2.0735024101201292e-13\n",
            "4 0.9999999999910595\n",
            "5 -3.704815689124423e-14\n",
            "6 2.138413386106903e-13\n",
            "7 1.626034121418402e-13\n",
            "8 1.927892693700597e-13\n",
            "9 0.9999999999996143\n",
            "10 0.9999999999988642\n",
            "11 1.0000000000000584\n",
            "12 0.9999999999998463\n",
            "13 2.2458273861807826e-13\n",
            "14 0.9999999999994341\n",
            "15 0.9999999999975361\n",
            "the sum of profitability of selected hotels is 269.92468137953136\n"
          ],
          "name": "stdout"
        }
      ]
    },
    {
      "metadata": {
        "id": "dnUeh4oNseTR",
        "colab_type": "text"
      },
      "cell_type": "markdown",
      "source": [
        "If we accept the sum of profitabilites as what we need, then the solution makes sense intuitively. This basically tells us to buy as many small hotels as we can (and sum up a large profitability score).\n",
        "The total score of almost 270 >> 53 of the original solution. However, with weighted average this would be very different."
      ]
    },
    {
      "metadata": {
        "id": "lQrjjHkftVZG",
        "colab_type": "text"
      },
      "cell_type": "markdown",
      "source": [
        "#question 5\n",
        "\n",
        "We need a location id, let's call it l:\n",
        "\n",
        "Eureka = 0\n",
        "\n",
        "Fresno = 1\n",
        "\n",
        "Long Beach = 2\n",
        "\n",
        "LA = 3\n",
        "\n",
        "South Lake Tahoe = 4\n",
        "\n",
        "\n",
        "The new constraint is:\n",
        "\n",
        "sum(b_i_l) <=2 for any specific, given value of location id l\n",
        "\n",
        "The new solution has to be equal or worse to the previous one, as we added another constraint without altering the problem otherwise."
      ]
    },
    {
      "metadata": {
        "id": "mx84xVS1uG-n",
        "colab_type": "code",
        "colab": {}
      },
      "cell_type": "code",
      "source": [
        "list_l = [0,1,1,1,1,2,3,3,3,4,4,4,4,4,4,4] \n",
        "\n",
        "cH_loc1 = list_b_converted[1] + list_b_converted[2] + list_b_converted[3] + list_b_converted[4] <= 2.1 #faster to do it manually in this case. location1 (0skipped cause its less than 2 options anyway)\n",
        "cH_loc3 = list_b_converted[6] + list_b_converted[7] + list_b_converted[8]<= 2.1 # location 3 (2 skipped)\n",
        "cH_loc4 = list_b_converted[15] + list_b_converted[14] + list_b_converted[13] + list_b_converted[12] + list_b_converted[11] + list_b_converted[10] + list_b_converted[9]<= 2.1 #location 4\n",
        "#2.1 instead of 2 to be on the safe side with approx\n",
        "\n",
        "consHotels2 = consHotels\n"
      ],
      "execution_count": 0,
      "outputs": []
    },
    {
      "metadata": {
        "id": "WRQo5GlDw0do",
        "colab_type": "code",
        "colab": {}
      },
      "cell_type": "code",
      "source": [
        "consHotels2.append(cH_loc1)\n",
        "consHotels2.append(cH_loc3)\n",
        "consHotels2.append(cH_loc4)"
      ],
      "execution_count": 0,
      "outputs": []
    },
    {
      "metadata": {
        "id": "h_PBdg9Vw_4c",
        "colab_type": "code",
        "colab": {
          "base_uri": "https://localhost:8080/",
          "height": 642
        },
        "outputId": "e0d0c546-4256-4c9e-ce57-fabcf71b9523"
      },
      "cell_type": "code",
      "source": [
        "\n",
        "\n",
        "iHotRange = range(1,17) #range 1,17 gives us 1 to 16 in Python\n",
        "list_b2 = list()\n",
        "list_b2_int = list()\n",
        "for iHotel in iHotRange:\n",
        "  b_i2 = cvxpy.Bool()\n",
        "  list_b2.append(b_i2)\n",
        "  #b_i = 1 #test to see how Bool behaves when assigned 1 or 0. No error\n",
        "  \n",
        "print(list_b2) #Bool is creating problems with calculations. AttributeError: 'numpy.bool_' object has no attribute 'variables'. \n",
        "#We could model it as Int, then add constraints >=0 and <=1, but this not a clean way to handle. Better find a conversions Bool --> Int (CVXPY types)\n",
        "print(list_b2[1].value) #testing\n",
        "\n",
        "ourProfitSum2 = sumproduct(list_b2, list_prof)\n",
        "ourObjectiveHotels2 = cvxpy.Maximize(ourProfitSum2)\n",
        "list_b_converted2 = list()\n",
        "\n",
        "ourProbHotels2 = cvxpy.Problem(ourObjectiveHotels2, consHotels2) #new constraints, everything else the same\n",
        "resultHotels2 =  ourProbHotels2.solve()\n",
        "\n",
        "\n",
        "for i2 in range(0,16):\n",
        "  print(i2, list_b2[i2].value) #remember, 0 (or close to it), we don't buy it. 1 (or close to it) we buy it.\n",
        "  list_b_converted.append(list_b[i2].value) #taking the value from vars, need this for the next calculation\n",
        "  \n",
        "ourResultProfitabilitySum2 = sumproduct(list_b_converted2, list_prof)\n",
        "print('the sum of profitability of selected hotels is', ourResultProfitabilitySum2)"
      ],
      "execution_count": 70,
      "outputs": [
        {
          "output_type": "stream",
          "text": [
            "[Bool(1, 1), Bool(1, 1), Bool(1, 1), Bool(1, 1), Bool(1, 1), Bool(1, 1), Bool(1, 1), Bool(1, 1), Bool(1, 1), Bool(1, 1), Bool(1, 1), Bool(1, 1), Bool(1, 1), Bool(1, 1), Bool(1, 1), Bool(1, 1)]\n",
            "None\n"
          ],
          "name": "stdout"
        },
        {
          "output_type": "error",
          "ename": "AttributeError",
          "evalue": "ignored",
          "traceback": [
            "\u001b[0;31m---------------------------------------------------------------------------\u001b[0m",
            "\u001b[0;31mAttributeError\u001b[0m                            Traceback (most recent call last)",
            "\u001b[0;32m<ipython-input-70-88d2c76a19c0>\u001b[0m in \u001b[0;36m<module>\u001b[0;34m()\u001b[0m\n\u001b[1;32m     17\u001b[0m \u001b[0mlist_b_converted2\u001b[0m \u001b[0;34m=\u001b[0m \u001b[0mlist\u001b[0m\u001b[0;34m(\u001b[0m\u001b[0;34m)\u001b[0m\u001b[0;34m\u001b[0m\u001b[0m\n\u001b[1;32m     18\u001b[0m \u001b[0;34m\u001b[0m\u001b[0m\n\u001b[0;32m---> 19\u001b[0;31m \u001b[0mourProbHotels2\u001b[0m \u001b[0;34m=\u001b[0m \u001b[0mcvxpy\u001b[0m\u001b[0;34m.\u001b[0m\u001b[0mProblem\u001b[0m\u001b[0;34m(\u001b[0m\u001b[0mourObjectiveHotels2\u001b[0m\u001b[0;34m,\u001b[0m \u001b[0mconsHotels2\u001b[0m\u001b[0;34m)\u001b[0m \u001b[0;31m#new constraints, everything else the same\u001b[0m\u001b[0;34m\u001b[0m\u001b[0m\n\u001b[0m\u001b[1;32m     20\u001b[0m \u001b[0mresultHotels2\u001b[0m \u001b[0;34m=\u001b[0m  \u001b[0mourProbHotels2\u001b[0m\u001b[0;34m.\u001b[0m\u001b[0msolve\u001b[0m\u001b[0;34m(\u001b[0m\u001b[0;34m)\u001b[0m\u001b[0;34m\u001b[0m\u001b[0m\n\u001b[1;32m     21\u001b[0m \u001b[0;34m\u001b[0m\u001b[0m\n",
            "\u001b[0;32m/usr/local/lib/python3.6/dist-packages/cvxpy/problems/problem.py\u001b[0m in \u001b[0;36m__init__\u001b[0;34m(self, objective, constraints)\u001b[0m\n\u001b[1;32m     76\u001b[0m         \u001b[0mself\u001b[0m\u001b[0;34m.\u001b[0m\u001b[0m_separable_problems\u001b[0m \u001b[0;34m=\u001b[0m \u001b[0;32mNone\u001b[0m\u001b[0;34m\u001b[0m\u001b[0m\n\u001b[1;32m     77\u001b[0m         \u001b[0;31m# Information about the size of the problem and its constituent parts\u001b[0m\u001b[0;34m\u001b[0m\u001b[0;34m\u001b[0m\u001b[0m\n\u001b[0;32m---> 78\u001b[0;31m         \u001b[0mself\u001b[0m\u001b[0;34m.\u001b[0m\u001b[0m_size_metrics\u001b[0m \u001b[0;34m=\u001b[0m \u001b[0mSizeMetrics\u001b[0m\u001b[0;34m(\u001b[0m\u001b[0mself\u001b[0m\u001b[0;34m)\u001b[0m\u001b[0;34m\u001b[0m\u001b[0m\n\u001b[0m\u001b[1;32m     79\u001b[0m         \u001b[0;31m# Benchmarks reported by the solver:\u001b[0m\u001b[0;34m\u001b[0m\u001b[0;34m\u001b[0m\u001b[0m\n\u001b[1;32m     80\u001b[0m         \u001b[0mself\u001b[0m\u001b[0;34m.\u001b[0m\u001b[0m_solver_stats\u001b[0m \u001b[0;34m=\u001b[0m \u001b[0;32mNone\u001b[0m\u001b[0;34m\u001b[0m\u001b[0m\n",
            "\u001b[0;32m/usr/local/lib/python3.6/dist-packages/cvxpy/problems/problem.py\u001b[0m in \u001b[0;36m__init__\u001b[0;34m(self, problem)\u001b[0m\n\u001b[1;32m    670\u001b[0m         \u001b[0;31m# num_scalar_variables\u001b[0m\u001b[0;34m\u001b[0m\u001b[0;34m\u001b[0m\u001b[0m\n\u001b[1;32m    671\u001b[0m         \u001b[0mself\u001b[0m\u001b[0;34m.\u001b[0m\u001b[0mnum_scalar_variables\u001b[0m \u001b[0;34m=\u001b[0m \u001b[0;36m0\u001b[0m\u001b[0;34m\u001b[0m\u001b[0m\n\u001b[0;32m--> 672\u001b[0;31m         \u001b[0;32mfor\u001b[0m \u001b[0mvar\u001b[0m \u001b[0;32min\u001b[0m \u001b[0mproblem\u001b[0m\u001b[0;34m.\u001b[0m\u001b[0mvariables\u001b[0m\u001b[0;34m(\u001b[0m\u001b[0;34m)\u001b[0m\u001b[0;34m:\u001b[0m\u001b[0;34m\u001b[0m\u001b[0m\n\u001b[0m\u001b[1;32m    673\u001b[0m             \u001b[0mself\u001b[0m\u001b[0;34m.\u001b[0m\u001b[0mnum_scalar_variables\u001b[0m \u001b[0;34m+=\u001b[0m \u001b[0mnp\u001b[0m\u001b[0;34m.\u001b[0m\u001b[0mprod\u001b[0m\u001b[0;34m(\u001b[0m\u001b[0mvar\u001b[0m\u001b[0;34m.\u001b[0m\u001b[0msize\u001b[0m\u001b[0;34m)\u001b[0m\u001b[0;34m\u001b[0m\u001b[0m\n\u001b[1;32m    674\u001b[0m \u001b[0;34m\u001b[0m\u001b[0m\n",
            "\u001b[0;32m/usr/local/lib/python3.6/dist-packages/cvxpy/problems/problem.py\u001b[0m in \u001b[0;36mvariables\u001b[0;34m(self)\u001b[0m\n\u001b[1;32m    143\u001b[0m         \u001b[0mvars_\u001b[0m \u001b[0;34m=\u001b[0m \u001b[0mself\u001b[0m\u001b[0;34m.\u001b[0m\u001b[0mobjective\u001b[0m\u001b[0;34m.\u001b[0m\u001b[0mvariables\u001b[0m\u001b[0;34m(\u001b[0m\u001b[0;34m)\u001b[0m\u001b[0;34m\u001b[0m\u001b[0m\n\u001b[1;32m    144\u001b[0m         \u001b[0;32mfor\u001b[0m \u001b[0mconstr\u001b[0m \u001b[0;32min\u001b[0m \u001b[0mself\u001b[0m\u001b[0;34m.\u001b[0m\u001b[0mconstraints\u001b[0m\u001b[0;34m:\u001b[0m\u001b[0;34m\u001b[0m\u001b[0m\n\u001b[0;32m--> 145\u001b[0;31m             \u001b[0mvars_\u001b[0m \u001b[0;34m+=\u001b[0m \u001b[0mconstr\u001b[0m\u001b[0;34m.\u001b[0m\u001b[0mvariables\u001b[0m\u001b[0;34m(\u001b[0m\u001b[0;34m)\u001b[0m\u001b[0;34m\u001b[0m\u001b[0m\n\u001b[0m\u001b[1;32m    146\u001b[0m         \u001b[0;31m# Remove duplicates.\u001b[0m\u001b[0;34m\u001b[0m\u001b[0;34m\u001b[0m\u001b[0m\n\u001b[1;32m    147\u001b[0m         \u001b[0;32mreturn\u001b[0m \u001b[0mlist\u001b[0m\u001b[0;34m(\u001b[0m\u001b[0mset\u001b[0m\u001b[0;34m(\u001b[0m\u001b[0mvars_\u001b[0m\u001b[0;34m)\u001b[0m\u001b[0;34m)\u001b[0m\u001b[0;34m\u001b[0m\u001b[0m\n",
            "\u001b[0;31mAttributeError\u001b[0m: 'numpy.bool_' object has no attribute 'variables'"
          ]
        }
      ]
    },
    {
      "metadata": {
        "id": "2hEfgjfx0tpx",
        "colab_type": "text"
      },
      "cell_type": "markdown",
      "source": [
        "#question 6\n",
        "\n",
        "\n",
        "If we are confident about the sum of profitability, I would say that it makes sense to pick the many small hotels solution. It also offers diversification in location.\n",
        "I have not seen any EDA on how this model was created, so any suggestions would be tenative. We would need to see more historical data to see how this model was derived.\n",
        "It seems that some variables are very strongly represented (>5 factor) and it would be good to reexamine how reliable that is based on the data. \n",
        "\n",
        "\n",
        "Also, when using linear models, we need to make sure the relationships are actually linear (or close enough to it). If for some of the variables it is not, we could use a sqrt or a log transformation, or switch to a no linear model.\n",
        "\n",
        "\n",
        "As for the optimization model, we could take more factors into account, such as volatility in profitability over time, areas that are more up and coming, a minumum or maximum spend on an individual hotel."
      ]
    }
  ]
}